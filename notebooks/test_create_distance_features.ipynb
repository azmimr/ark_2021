{
 "cells": [
  {
   "cell_type": "markdown",
   "metadata": {},
   "source": [
    "# Creating Distance-based features\n",
    "\n",
    "This notebook is used to test code that will create the distance-based features."
   ]
  },
  {
   "cell_type": "code",
   "execution_count": 1,
   "metadata": {},
   "outputs": [],
   "source": [
    "%load_ext autoreload\n",
    "%autoreload 2"
   ]
  },
  {
   "cell_type": "code",
   "execution_count": 2,
   "metadata": {},
   "outputs": [],
   "source": [
    "%matplotlib inline\n",
    "\n",
    "import matplotlib.pyplot as plt\n",
    "from matplotlib import gridspec\n",
    "import numpy as np\n",
    "import pandas as pd\n",
    "import math"
   ]
  },
  {
   "cell_type": "code",
   "execution_count": 4,
   "metadata": {},
   "outputs": [],
   "source": [
    "# Custome functions to help create features\n",
    "from src.utils import haversine, calc_xydist\n",
    "from src.quadtree import Point, Rect, QuadTree"
   ]
  },
  {
   "cell_type": "markdown",
   "metadata": {},
   "source": [
    "---\n",
    "\n",
    "## Calculate SW and NE corner points to denote bounding area \n",
    "\n",
    "Using the training data, we can calculate the min and max coordinates. We then extend these slightly and use them to define the boundary area for Singapore."
   ]
  },
  {
   "cell_type": "code",
   "execution_count": 5,
   "metadata": {},
   "outputs": [],
   "source": [
    "# Load the training data\n",
    "train_path = 'data/train.csv'\n",
    "train = pd.read_csv(train_path)"
   ]
  },
  {
   "cell_type": "code",
   "execution_count": 6,
   "metadata": {},
   "outputs": [],
   "source": [
    "# Since the coordinates are geodetic, their units are in degrees. The coordinates will be extended \n",
    "# by 0.5 degrees which approximately equates to about 5 km along the Earths surface.\n",
    "deg_offset = 0.05 "
   ]
  },
  {
   "cell_type": "code",
   "execution_count": 7,
   "metadata": {},
   "outputs": [
    {
     "name": "stdout",
     "output_type": "stream",
     "text": [
      "Reference Origin (lat, long): 1.2203795117581597, 103.63522841782499\n",
      "Maximum Coord (lat, long): 1.5070712161383, 104.037804503483\n"
     ]
    }
   ],
   "source": [
    "ref_min_lat = train['latitude'].min() - deg_offset\n",
    "ref_min_long = train['longitude'].min() - deg_offset\n",
    "ref_max_lat = train['latitude'].max() + deg_offset\n",
    "ref_max_long = train['longitude'].max() + deg_offset\n",
    "\n",
    "print(f\"Reference Origin (lat, long): {ref_min_lat}, {ref_min_long}\")\n",
    "print(f\"Maximum Coord (lat, long): {ref_max_lat}, {ref_max_long}\")"
   ]
  },
  {
   "cell_type": "markdown",
   "metadata": {},
   "source": [
    "The reference origin will be used to calculate the Cartesian coordinates of all entities in the data."
   ]
  },
  {
   "cell_type": "code",
   "execution_count": 8,
   "metadata": {},
   "outputs": [
    {
     "data": {
      "text/plain": [
       "month                            2001-08\n",
       "town                           pasir ris\n",
       "flat_type                         4 room\n",
       "block                                440\n",
       "street_name            pasir ris drive 4\n",
       "storey_range                    01 to 03\n",
       "floor_area_sqm                       118\n",
       "flat_model                       model a\n",
       "eco_category               uncategorized\n",
       "lease_commence_date                 1989\n",
       "latitude                         1.36901\n",
       "longitude                        103.959\n",
       "elevation                              0\n",
       "subzone                  pasir ris drive\n",
       "planning_area                  pasir ris\n",
       "region                       east region\n",
       "resale_price                      209700\n",
       "Name: 0, dtype: object"
      ]
     },
     "execution_count": 8,
     "metadata": {},
     "output_type": "execute_result"
    }
   ],
   "source": [
    "# 1st entry in data\n",
    "train.iloc[0]\n",
    "# manually validate coord in google maps"
   ]
  },
  {
   "cell_type": "code",
   "execution_count": 9,
   "metadata": {},
   "outputs": [],
   "source": [
    "test_lat, test_long = train.iloc[0][['latitude','longitude']]"
   ]
  },
  {
   "cell_type": "code",
   "execution_count": 10,
   "metadata": {},
   "outputs": [
    {
     "name": "stdout",
     "output_type": "stream",
     "text": [
      "Distance to origin (x,y): 35.95775442315713,16.5267442089845 km\n"
     ]
    }
   ],
   "source": [
    "test_x, test_y = calc_xydist(test_long, test_lat, ref_min_long,ref_min_lat)\n",
    "print(f\"Distance to origin (x,y): {test_x},{test_y} km\")"
   ]
  },
  {
   "cell_type": "code",
   "execution_count": 11,
   "metadata": {},
   "outputs": [
    {
     "name": "stdout",
     "output_type": "stream",
     "text": [
      "Euclid distance to origin: 39.57487375074682 km\n"
     ]
    }
   ],
   "source": [
    "dist = haversine(test_long, test_lat, ref_min_long,ref_min_lat)\n",
    "print(f\"Euclid distance to origin: {dist} km\")"
   ]
  },
  {
   "cell_type": "markdown",
   "metadata": {},
   "source": [
    "Above distance was successfully checked against visual inspection on Google Maps (the slight difference is due to the manual selection of points on the map).\n",
    "\n",
    "<!-- ![Check distance](./images/check_xydist.png) -->\n",
    "\n",
    "<img src=\"./images/check_xydist.png\" alt=\"Drawing\" style=\"width: 600px;\"/>"
   ]
  },
  {
   "cell_type": "markdown",
   "metadata": {},
   "source": [
    "## Quadtree data structure and radius search\n",
    "\n",
    "Data from the various amenities will be stored in a Quadtree data tree. This is more efficient than storing the data in a list or dictionary. It allows for the searching of elements by distance in $O({log}_{2}n)$.\n",
    "\n",
    "In this notebook, we test the quadtree code using MRT data."
   ]
  },
  {
   "cell_type": "code",
   "execution_count": 12,
   "metadata": {},
   "outputs": [
    {
     "name": "stdout",
     "output_type": "stream",
     "text": [
      "Dimensions of Bounding area in km: 45, 32\n"
     ]
    }
   ],
   "source": [
    "width, height = calc_xydist(ref_max_long, ref_max_lat, ref_min_long,ref_min_lat)\n",
    "width = math.ceil(width)\n",
    "height = math.ceil(height)\n",
    "print(f\"Dimensions of Bounding area in km: {width}, {height}\") # Bounding box size in km"
   ]
  },
  {
   "cell_type": "code",
   "execution_count": 13,
   "metadata": {},
   "outputs": [],
   "source": [
    "mrt_data_path = 'data/auxiliary-data/sg-train-stations.csv'\n",
    "mrt = pd.read_csv(mrt_data_path)"
   ]
  },
  {
   "cell_type": "code",
   "execution_count": 14,
   "metadata": {},
   "outputs": [
    {
     "data": {
      "text/html": [
       "<div>\n",
       "<style scoped>\n",
       "    .dataframe tbody tr th:only-of-type {\n",
       "        vertical-align: middle;\n",
       "    }\n",
       "\n",
       "    .dataframe tbody tr th {\n",
       "        vertical-align: top;\n",
       "    }\n",
       "\n",
       "    .dataframe thead th {\n",
       "        text-align: right;\n",
       "    }\n",
       "</style>\n",
       "<table border=\"1\" class=\"dataframe\">\n",
       "  <thead>\n",
       "    <tr style=\"text-align: right;\">\n",
       "      <th></th>\n",
       "      <th>name</th>\n",
       "      <th>codes</th>\n",
       "      <th>lat</th>\n",
       "      <th>lng</th>\n",
       "      <th>opening_year</th>\n",
       "      <th>type</th>\n",
       "    </tr>\n",
       "  </thead>\n",
       "  <tbody>\n",
       "    <tr>\n",
       "      <th>0</th>\n",
       "      <td>Eunos</td>\n",
       "      <td>EW7</td>\n",
       "      <td>1.319778</td>\n",
       "      <td>103.903252</td>\n",
       "      <td>1989.0</td>\n",
       "      <td>mrt</td>\n",
       "    </tr>\n",
       "    <tr>\n",
       "      <th>1</th>\n",
       "      <td>Chinese Garden</td>\n",
       "      <td>EW25</td>\n",
       "      <td>1.342352</td>\n",
       "      <td>103.732596</td>\n",
       "      <td>1988.0</td>\n",
       "      <td>mrt</td>\n",
       "    </tr>\n",
       "    <tr>\n",
       "      <th>2</th>\n",
       "      <td>Khatib</td>\n",
       "      <td>NS14</td>\n",
       "      <td>1.417383</td>\n",
       "      <td>103.832980</td>\n",
       "      <td>1988.0</td>\n",
       "      <td>mrt</td>\n",
       "    </tr>\n",
       "    <tr>\n",
       "      <th>3</th>\n",
       "      <td>Kranji</td>\n",
       "      <td>NS7</td>\n",
       "      <td>1.425177</td>\n",
       "      <td>103.762165</td>\n",
       "      <td>1996.0</td>\n",
       "      <td>mrt</td>\n",
       "    </tr>\n",
       "    <tr>\n",
       "      <th>4</th>\n",
       "      <td>Redhill</td>\n",
       "      <td>EW18</td>\n",
       "      <td>1.289562</td>\n",
       "      <td>103.816816</td>\n",
       "      <td>1988.0</td>\n",
       "      <td>mrt</td>\n",
       "    </tr>\n",
       "  </tbody>\n",
       "</table>\n",
       "</div>"
      ],
      "text/plain": [
       "             name codes       lat         lng  opening_year type\n",
       "0           Eunos   EW7  1.319778  103.903252        1989.0  mrt\n",
       "1  Chinese Garden  EW25  1.342352  103.732596        1988.0  mrt\n",
       "2          Khatib  NS14  1.417383  103.832980        1988.0  mrt\n",
       "3          Kranji   NS7  1.425177  103.762165        1996.0  mrt\n",
       "4         Redhill  EW18  1.289562  103.816816        1988.0  mrt"
      ]
     },
     "execution_count": 14,
     "metadata": {},
     "output_type": "execute_result"
    }
   ],
   "source": [
    "mrt.head()"
   ]
  },
  {
   "cell_type": "code",
   "execution_count": 15,
   "metadata": {},
   "outputs": [
    {
     "data": {
      "text/html": [
       "<div>\n",
       "<style scoped>\n",
       "    .dataframe tbody tr th:only-of-type {\n",
       "        vertical-align: middle;\n",
       "    }\n",
       "\n",
       "    .dataframe tbody tr th {\n",
       "        vertical-align: top;\n",
       "    }\n",
       "\n",
       "    .dataframe thead th {\n",
       "        text-align: right;\n",
       "    }\n",
       "</style>\n",
       "<table border=\"1\" class=\"dataframe\">\n",
       "  <thead>\n",
       "    <tr style=\"text-align: right;\">\n",
       "      <th></th>\n",
       "      <th>name</th>\n",
       "      <th>codes</th>\n",
       "      <th>lat</th>\n",
       "      <th>lng</th>\n",
       "      <th>opening_year</th>\n",
       "      <th>type</th>\n",
       "      <th>x</th>\n",
       "      <th>y</th>\n",
       "      <th>long_name</th>\n",
       "    </tr>\n",
       "  </thead>\n",
       "  <tbody>\n",
       "    <tr>\n",
       "      <th>0</th>\n",
       "      <td>Eunos</td>\n",
       "      <td>EW7</td>\n",
       "      <td>1.319778</td>\n",
       "      <td>103.903252</td>\n",
       "      <td>1989.0</td>\n",
       "      <td>mrt</td>\n",
       "      <td>NaN</td>\n",
       "      <td>NaN</td>\n",
       "      <td>Eunos_mrt</td>\n",
       "    </tr>\n",
       "    <tr>\n",
       "      <th>1</th>\n",
       "      <td>Chinese Garden</td>\n",
       "      <td>EW25</td>\n",
       "      <td>1.342352</td>\n",
       "      <td>103.732596</td>\n",
       "      <td>1988.0</td>\n",
       "      <td>mrt</td>\n",
       "      <td>NaN</td>\n",
       "      <td>NaN</td>\n",
       "      <td>Chinese Garden_mrt</td>\n",
       "    </tr>\n",
       "    <tr>\n",
       "      <th>2</th>\n",
       "      <td>Khatib</td>\n",
       "      <td>NS14</td>\n",
       "      <td>1.417383</td>\n",
       "      <td>103.832980</td>\n",
       "      <td>1988.0</td>\n",
       "      <td>mrt</td>\n",
       "      <td>NaN</td>\n",
       "      <td>NaN</td>\n",
       "      <td>Khatib_mrt</td>\n",
       "    </tr>\n",
       "    <tr>\n",
       "      <th>3</th>\n",
       "      <td>Kranji</td>\n",
       "      <td>NS7</td>\n",
       "      <td>1.425177</td>\n",
       "      <td>103.762165</td>\n",
       "      <td>1996.0</td>\n",
       "      <td>mrt</td>\n",
       "      <td>NaN</td>\n",
       "      <td>NaN</td>\n",
       "      <td>Kranji_mrt</td>\n",
       "    </tr>\n",
       "    <tr>\n",
       "      <th>4</th>\n",
       "      <td>Redhill</td>\n",
       "      <td>EW18</td>\n",
       "      <td>1.289562</td>\n",
       "      <td>103.816816</td>\n",
       "      <td>1988.0</td>\n",
       "      <td>mrt</td>\n",
       "      <td>NaN</td>\n",
       "      <td>NaN</td>\n",
       "      <td>Redhill_mrt</td>\n",
       "    </tr>\n",
       "  </tbody>\n",
       "</table>\n",
       "</div>"
      ],
      "text/plain": [
       "             name codes       lat         lng  opening_year type   x   y  \\\n",
       "0           Eunos   EW7  1.319778  103.903252        1989.0  mrt NaN NaN   \n",
       "1  Chinese Garden  EW25  1.342352  103.732596        1988.0  mrt NaN NaN   \n",
       "2          Khatib  NS14  1.417383  103.832980        1988.0  mrt NaN NaN   \n",
       "3          Kranji   NS7  1.425177  103.762165        1996.0  mrt NaN NaN   \n",
       "4         Redhill  EW18  1.289562  103.816816        1988.0  mrt NaN NaN   \n",
       "\n",
       "            long_name  \n",
       "0           Eunos_mrt  \n",
       "1  Chinese Garden_mrt  \n",
       "2          Khatib_mrt  \n",
       "3          Kranji_mrt  \n",
       "4         Redhill_mrt  "
      ]
     },
     "execution_count": 15,
     "metadata": {},
     "output_type": "execute_result"
    }
   ],
   "source": [
    "# Create new columns that will store the coordinates and the composite name for the station\n",
    "mrt['x'] = np.nan\n",
    "mrt['y'] = np.nan\n",
    "mrt['long_name'] = mrt['name'] + '_' + mrt['type']\n",
    "\n",
    "mrt.head()"
   ]
  },
  {
   "cell_type": "code",
   "execution_count": 23,
   "metadata": {},
   "outputs": [],
   "source": [
    "# Define a function to create the Quadtree data structure\n",
    "def create_qtree(df, name_col = 'name'):\n",
    "    \n",
    "    print(f\"Number of rows in data = {df.shape[0]}\")\n",
    "    \n",
    "    qtree = QuadTree(domain, 3)\n",
    "    points = []\n",
    "    for index, row in df.iterrows():\n",
    "        x, y = calc_xydist(row.lng, row.lat, ref_min_long,ref_min_lat)\n",
    "\n",
    "        df.loc[index,'x'] = round(x, 2)\n",
    "        df.loc[index,'y'] = round(y, 2)\n",
    "\n",
    "        point = Point(x, y, name=row[name_col])\n",
    "\n",
    "        points.append(point)\n",
    "        qtree.insert(point)\n",
    "        \n",
    "    return qtree, points"
   ]
  },
  {
   "cell_type": "code",
   "execution_count": 25,
   "metadata": {},
   "outputs": [],
   "source": [
    "# Define a function to visualize a quadtree object\n",
    "def plot_qtree(points, qtree):\n",
    "    \n",
    "    print(f\"Number of nodes in Quadtree = {len(qtree)}\")\n",
    "   \n",
    "    DPI = 72\n",
    "    fig = plt.figure(figsize=(700/DPI, 500/DPI), dpi=DPI)\n",
    "    ax = plt.subplot()\n",
    "    ax.set_xlim(0, width)\n",
    "    ax.set_ylim(0, height)\n",
    "    qtree.draw(ax)\n",
    "    ax.scatter([p.x for p in points], [p.y for p in points], s=4)\n",
    "    ax.set_xticks([])\n",
    "    ax.set_yticks([])\n",
    "    plt.show()"
   ]
  },
  {
   "cell_type": "code",
   "execution_count": 24,
   "metadata": {},
   "outputs": [
    {
     "name": "stdout",
     "output_type": "stream",
     "text": [
      "Number of rows in data = 166\n"
     ]
    },
    {
     "data": {
      "text/html": [
       "<div>\n",
       "<style scoped>\n",
       "    .dataframe tbody tr th:only-of-type {\n",
       "        vertical-align: middle;\n",
       "    }\n",
       "\n",
       "    .dataframe tbody tr th {\n",
       "        vertical-align: top;\n",
       "    }\n",
       "\n",
       "    .dataframe thead th {\n",
       "        text-align: right;\n",
       "    }\n",
       "</style>\n",
       "<table border=\"1\" class=\"dataframe\">\n",
       "  <thead>\n",
       "    <tr style=\"text-align: right;\">\n",
       "      <th></th>\n",
       "      <th>name</th>\n",
       "      <th>codes</th>\n",
       "      <th>lat</th>\n",
       "      <th>lng</th>\n",
       "      <th>opening_year</th>\n",
       "      <th>type</th>\n",
       "      <th>x</th>\n",
       "      <th>y</th>\n",
       "      <th>long_name</th>\n",
       "    </tr>\n",
       "  </thead>\n",
       "  <tbody>\n",
       "    <tr>\n",
       "      <th>0</th>\n",
       "      <td>Eunos</td>\n",
       "      <td>EW7</td>\n",
       "      <td>1.319778</td>\n",
       "      <td>103.903252</td>\n",
       "      <td>1989.0</td>\n",
       "      <td>mrt</td>\n",
       "      <td>29.79</td>\n",
       "      <td>11.05</td>\n",
       "      <td>Eunos_mrt</td>\n",
       "    </tr>\n",
       "    <tr>\n",
       "      <th>1</th>\n",
       "      <td>Chinese Garden</td>\n",
       "      <td>EW25</td>\n",
       "      <td>1.342352</td>\n",
       "      <td>103.732596</td>\n",
       "      <td>1988.0</td>\n",
       "      <td>mrt</td>\n",
       "      <td>10.82</td>\n",
       "      <td>13.56</td>\n",
       "      <td>Chinese Garden_mrt</td>\n",
       "    </tr>\n",
       "    <tr>\n",
       "      <th>2</th>\n",
       "      <td>Khatib</td>\n",
       "      <td>NS14</td>\n",
       "      <td>1.417383</td>\n",
       "      <td>103.832980</td>\n",
       "      <td>1988.0</td>\n",
       "      <td>mrt</td>\n",
       "      <td>21.98</td>\n",
       "      <td>21.91</td>\n",
       "      <td>Khatib_mrt</td>\n",
       "    </tr>\n",
       "    <tr>\n",
       "      <th>3</th>\n",
       "      <td>Kranji</td>\n",
       "      <td>NS7</td>\n",
       "      <td>1.425177</td>\n",
       "      <td>103.762165</td>\n",
       "      <td>1996.0</td>\n",
       "      <td>mrt</td>\n",
       "      <td>14.11</td>\n",
       "      <td>22.77</td>\n",
       "      <td>Kranji_mrt</td>\n",
       "    </tr>\n",
       "    <tr>\n",
       "      <th>4</th>\n",
       "      <td>Redhill</td>\n",
       "      <td>EW18</td>\n",
       "      <td>1.289562</td>\n",
       "      <td>103.816816</td>\n",
       "      <td>1988.0</td>\n",
       "      <td>mrt</td>\n",
       "      <td>20.19</td>\n",
       "      <td>7.69</td>\n",
       "      <td>Redhill_mrt</td>\n",
       "    </tr>\n",
       "  </tbody>\n",
       "</table>\n",
       "</div>"
      ],
      "text/plain": [
       "             name codes       lat         lng  opening_year type      x  \\\n",
       "0           Eunos   EW7  1.319778  103.903252        1989.0  mrt  29.79   \n",
       "1  Chinese Garden  EW25  1.342352  103.732596        1988.0  mrt  10.82   \n",
       "2          Khatib  NS14  1.417383  103.832980        1988.0  mrt  21.98   \n",
       "3          Kranji   NS7  1.425177  103.762165        1996.0  mrt  14.11   \n",
       "4         Redhill  EW18  1.289562  103.816816        1988.0  mrt  20.19   \n",
       "\n",
       "       y           long_name  \n",
       "0  11.05           Eunos_mrt  \n",
       "1  13.56  Chinese Garden_mrt  \n",
       "2  21.91          Khatib_mrt  \n",
       "3  22.77          Kranji_mrt  \n",
       "4   7.69         Redhill_mrt  "
      ]
     },
     "execution_count": 24,
     "metadata": {},
     "output_type": "execute_result"
    }
   ],
   "source": [
    "# TODO: Better way?\n",
    "domain = Rect(width/2, height/2, width, height)\n",
    "\n",
    "mrt_qtree, mrt_points = create_qtree(mrt, name_col='long_name')\n",
    "mrt.head()"
   ]
  },
  {
   "cell_type": "code",
   "execution_count": 26,
   "metadata": {},
   "outputs": [
    {
     "name": "stdout",
     "output_type": "stream",
     "text": [
      "Number of nodes in Quadtree = 166\n"
     ]
    },
    {
     "data": {
      "image/png": "[encoded data removed]",
      "text/plain": [
       "<Figure size 700x500 with 1 Axes>"
      ]
     },
     "metadata": {},
     "output_type": "display_data"
    }
   ],
   "source": [
    "plot_qtree(mrt_points, mrt_qtree)"
   ]
  },
  {
   "cell_type": "markdown",
   "metadata": {},
   "source": [
    "The plot above shows how the MRT data is stored in the Quadtree structure. Because MRT stations are found almost all over Singapore, you can almost trace the outline of the country from the data points.\n",
    "\n",
    "To test the search functionality of the data structure, a location is selected from the train dataset. This is the 2nd row in the train data representing a property in Punggol.\n",
    "\n",
    "A search radius of 2km is used. When first executed, the result showed 25 found stations which was suprising as MRT stations are usually quite a distance apart. Upon inspection, it showed that the results are actually LRT stations which are included in the datasets. These stations located in the North-East of Singapore are located much closer together that that of MRT stations. The plot shown below shows the found stations around the query location."
   ]
  },
  {
   "cell_type": "code",
   "execution_count": 34,
   "metadata": {},
   "outputs": [
    {
     "name": "stdout",
     "output_type": "stream",
     "text": [
      "Distance to origin (x,y): 30.209562601074747,19.862482837347994 km\n",
      "Number of found points = 25\n",
      "Oasis_other\n",
      "Sam Kee_other\n",
      "Farmway_other\n",
      "Kadaloor_other\n",
      "Coral Edge_other\n",
      "Riviera_mrt\n",
      "Cove_other\n",
      "Kangkar_other\n",
      "Meridian_other\n",
      "Ranggung_other\n",
      "Bakau_other\n",
      "Rumbia_other\n",
      "Cheng Lim_other\n",
      "Compassvale_other\n",
      "Sengkang_mrt\n",
      "Sengkang_mrt\n",
      "Punggol_mrt\n",
      "Samudera_other\n",
      "Nibong_other\n",
      "Soo Teck_other\n",
      "Damai_other\n",
      "Punggol Point_other\n",
      "Sumang_other\n",
      "Punggol_mrt\n",
      "Teck Lee_other\n"
     ]
    }
   ],
   "source": [
    "test_lat, test_long = train.iloc[1][['latitude','longitude']]\n",
    "\n",
    "test_x, test_y = calc_xydist(test_long, test_lat, ref_min_long,ref_min_lat)\n",
    "print(f\"Distance to origin (x,y): {test_x},{test_y} km\")\n",
    "\n",
    "# Query point\n",
    "centre = (test_x,test_y)\n",
    "radius = 2 # in km \n",
    "found_points = []\n",
    "mrt_qtree.query_radius(centre, radius, found_points)\n",
    "\n",
    "\n",
    "print('Number of found points =', len(found_points))\n",
    "for p in found_points:\n",
    "    print(p.name)"
   ]
  },
  {
   "cell_type": "code",
   "execution_count": 35,
   "metadata": {},
   "outputs": [
    {
     "data": {
      "image/png": "[encoded data removed]",
      "text/plain": [
       "<Figure size 700x500 with 1 Axes>"
      ]
     },
     "metadata": {},
     "output_type": "display_data"
    }
   ],
   "source": [
    "# Plot of the results of the search, modified from the plot function above\n",
    "\n",
    "# Plot results\n",
    "DPI = 72\n",
    "fig = plt.figure(figsize=(700/DPI, 500/DPI), dpi=DPI)\n",
    "ax = plt.subplot()\n",
    "\n",
    "ax.set_xlim(0, width)\n",
    "ax.set_ylim(0, height)\n",
    "\n",
    "# Plot all points\n",
    "ax.scatter([p.x for p in mrt_points], [p.y for p in mrt_points], s=4)\n",
    "ax.set_xticks([])\n",
    "ax.set_yticks([])\n",
    "\n",
    "# Plot found points\n",
    "ax.scatter([p.x for p in found_points], [p.y for p in found_points],\n",
    "           facecolors='none', edgecolors='r', s=32)\n",
    "\n",
    "# Draw search radius\n",
    "circle = plt.Circle(centre, radius, ec='r', fill=False)\n",
    "ax.add_patch(circle)\n",
    "# Rect(*centre, 2*radius, 2*radius).draw(ax, c='r')\n",
    "\n",
    "plt.show()"
   ]
  },
  {
   "cell_type": "markdown",
   "metadata": {},
   "source": [
    "## Conclusion\n",
    "\n",
    "This notebook has succefully shown how distance-based features can be added to the training data using auxiliary data of amenities. Using Cartesian coordinates allows for easy understanding of distances (in km instead of degrees) and the Quadtree data structure allows for the efficient search of elements in the area surrounding a query location. Once these results are found, features such as the count of amenities found within a search radius or distance to the nearest amenity can be calculated.\n",
    "\n",
    "Take note that the actual implementation is the pipeline is modified to improve computation speed as these distance-based features will need to be calculated for each of the data points in the training data."
   ]
  }
 ],
 "metadata": {
  "hide_input": false,
  "kernelspec": {
   "display_name": "cs5242",
   "language": "python",
   "name": "cs5242"
  },
  "language_info": {
   "codemirror_mode": {
    "name": "ipython",
    "version": 3
   },
   "file_extension": ".py",
   "mimetype": "text/x-python",
   "name": "python",
   "nbconvert_exporter": "python",
   "pygments_lexer": "ipython3",
   "version": "3.7.9"
  }
 },
 "nbformat": 4,
 "nbformat_minor": 4
}
