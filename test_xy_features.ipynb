{
 "cells": [
  {
   "cell_type": "code",
   "execution_count": 1,
   "metadata": {},
   "outputs": [],
   "source": [
    "%load_ext autoreload\n",
    "%autoreload 2"
   ]
  },
  {
   "cell_type": "code",
   "execution_count": 2,
   "metadata": {},
   "outputs": [],
   "source": [
    "%matplotlib inline\n",
    "\n",
    "import matplotlib.pyplot as plt\n",
    "from matplotlib import gridspec\n",
    "import numpy as np\n",
    "import pandas as pd\n",
    "import math"
   ]
  },
  {
   "cell_type": "code",
   "execution_count": 3,
   "metadata": {},
   "outputs": [],
   "source": [
    "from src.utils import haversine, calc_xydist\n",
    "from src.quadtree import Point, Rect, QuadTree"
   ]
  },
  {
   "cell_type": "code",
   "execution_count": 4,
   "metadata": {},
   "outputs": [],
   "source": [
    "deg_offset = 0.05 # about 5 km"
   ]
  },
  {
   "cell_type": "code",
   "execution_count": 5,
   "metadata": {},
   "outputs": [],
   "source": [
    "train_path = 'data/train.csv'"
   ]
  },
  {
   "cell_type": "code",
   "execution_count": 6,
   "metadata": {},
   "outputs": [],
   "source": [
    "train = pd.read_csv(train_path)"
   ]
  },
  {
   "cell_type": "code",
   "execution_count": 7,
   "metadata": {},
   "outputs": [
    {
     "data": {
      "text/plain": [
       "(431732, 17)"
      ]
     },
     "execution_count": 7,
     "metadata": {},
     "output_type": "execute_result"
    }
   ],
   "source": [
    "train.shape"
   ]
  },
  {
   "cell_type": "code",
   "execution_count": 8,
   "metadata": {},
   "outputs": [
    {
     "data": {
      "text/html": [
       "<div>\n",
       "<style scoped>\n",
       "    .dataframe tbody tr th:only-of-type {\n",
       "        vertical-align: middle;\n",
       "    }\n",
       "\n",
       "    .dataframe tbody tr th {\n",
       "        vertical-align: top;\n",
       "    }\n",
       "\n",
       "    .dataframe thead th {\n",
       "        text-align: right;\n",
       "    }\n",
       "</style>\n",
       "<table border=\"1\" class=\"dataframe\">\n",
       "  <thead>\n",
       "    <tr style=\"text-align: right;\">\n",
       "      <th></th>\n",
       "      <th>floor_area_sqm</th>\n",
       "      <th>lease_commence_date</th>\n",
       "      <th>latitude</th>\n",
       "      <th>longitude</th>\n",
       "      <th>elevation</th>\n",
       "      <th>resale_price</th>\n",
       "    </tr>\n",
       "  </thead>\n",
       "  <tbody>\n",
       "    <tr>\n",
       "      <th>count</th>\n",
       "      <td>431732.000000</td>\n",
       "      <td>431732.000000</td>\n",
       "      <td>431732.000000</td>\n",
       "      <td>431732.000000</td>\n",
       "      <td>431732.0</td>\n",
       "      <td>4.317320e+05</td>\n",
       "    </tr>\n",
       "    <tr>\n",
       "      <th>mean</th>\n",
       "      <td>96.970064</td>\n",
       "      <td>1989.421004</td>\n",
       "      <td>1.364939</td>\n",
       "      <td>103.836492</td>\n",
       "      <td>0.0</td>\n",
       "      <td>3.018196e+05</td>\n",
       "    </tr>\n",
       "    <tr>\n",
       "      <th>std</th>\n",
       "      <td>25.190664</td>\n",
       "      <td>10.254055</td>\n",
       "      <td>0.042829</td>\n",
       "      <td>0.073527</td>\n",
       "      <td>0.0</td>\n",
       "      <td>1.298623e+05</td>\n",
       "    </tr>\n",
       "    <tr>\n",
       "      <th>min</th>\n",
       "      <td>31.000000</td>\n",
       "      <td>1966.000000</td>\n",
       "      <td>1.270380</td>\n",
       "      <td>103.685228</td>\n",
       "      <td>0.0</td>\n",
       "      <td>2.970000e+04</td>\n",
       "    </tr>\n",
       "    <tr>\n",
       "      <th>25%</th>\n",
       "      <td>74.000000</td>\n",
       "      <td>1983.000000</td>\n",
       "      <td>1.336154</td>\n",
       "      <td>103.772439</td>\n",
       "      <td>0.0</td>\n",
       "      <td>2.052000e+05</td>\n",
       "    </tr>\n",
       "    <tr>\n",
       "      <th>50%</th>\n",
       "      <td>99.000000</td>\n",
       "      <td>1988.000000</td>\n",
       "      <td>1.358958</td>\n",
       "      <td>103.840160</td>\n",
       "      <td>0.0</td>\n",
       "      <td>2.839500e+05</td>\n",
       "    </tr>\n",
       "    <tr>\n",
       "      <th>75%</th>\n",
       "      <td>114.000000</td>\n",
       "      <td>1997.000000</td>\n",
       "      <td>1.389004</td>\n",
       "      <td>103.895779</td>\n",
       "      <td>0.0</td>\n",
       "      <td>3.735000e+05</td>\n",
       "    </tr>\n",
       "    <tr>\n",
       "      <th>max</th>\n",
       "      <td>280.000000</td>\n",
       "      <td>2019.000000</td>\n",
       "      <td>1.457071</td>\n",
       "      <td>103.987805</td>\n",
       "      <td>0.0</td>\n",
       "      <td>1.123200e+06</td>\n",
       "    </tr>\n",
       "  </tbody>\n",
       "</table>\n",
       "</div>"
      ],
      "text/plain": [
       "       floor_area_sqm  lease_commence_date       latitude      longitude  \\\n",
       "count   431732.000000        431732.000000  431732.000000  431732.000000   \n",
       "mean        96.970064          1989.421004       1.364939     103.836492   \n",
       "std         25.190664            10.254055       0.042829       0.073527   \n",
       "min         31.000000          1966.000000       1.270380     103.685228   \n",
       "25%         74.000000          1983.000000       1.336154     103.772439   \n",
       "50%         99.000000          1988.000000       1.358958     103.840160   \n",
       "75%        114.000000          1997.000000       1.389004     103.895779   \n",
       "max        280.000000          2019.000000       1.457071     103.987805   \n",
       "\n",
       "       elevation  resale_price  \n",
       "count   431732.0  4.317320e+05  \n",
       "mean         0.0  3.018196e+05  \n",
       "std          0.0  1.298623e+05  \n",
       "min          0.0  2.970000e+04  \n",
       "25%          0.0  2.052000e+05  \n",
       "50%          0.0  2.839500e+05  \n",
       "75%          0.0  3.735000e+05  \n",
       "max          0.0  1.123200e+06  "
      ]
     },
     "execution_count": 8,
     "metadata": {},
     "output_type": "execute_result"
    }
   ],
   "source": [
    "train.describe()"
   ]
  },
  {
   "cell_type": "markdown",
   "metadata": {},
   "source": [
    "# Calculate SW and NE corner points to denote bounding area "
   ]
  },
  {
   "cell_type": "code",
   "execution_count": 9,
   "metadata": {},
   "outputs": [
    {
     "name": "stdout",
     "output_type": "stream",
     "text": [
      "Reference Origin (lat, long): 1.2203795117581597, 103.63522841782499\n",
      "Maximum Coord (lat, long): 1.5070712161383, 104.037804503483\n"
     ]
    }
   ],
   "source": [
    "ref_min_lat = train['latitude'].min() - deg_offset\n",
    "ref_min_long = train['longitude'].min() - deg_offset\n",
    "ref_max_lat = train['latitude'].max() + deg_offset\n",
    "ref_max_long = train['longitude'].max() + deg_offset\n",
    "\n",
    "print(f\"Reference Origin (lat, long): {ref_min_lat}, {ref_min_long}\")\n",
    "print(f\"Maximum Coord (lat, long): {ref_max_lat}, {ref_max_long}\")"
   ]
  },
  {
   "cell_type": "code",
   "execution_count": 10,
   "metadata": {},
   "outputs": [
    {
     "data": {
      "text/plain": [
       "month                            2001-08\n",
       "town                           pasir ris\n",
       "flat_type                         4 room\n",
       "block                                440\n",
       "street_name            pasir ris drive 4\n",
       "storey_range                    01 to 03\n",
       "floor_area_sqm                       118\n",
       "flat_model                       model a\n",
       "eco_category               uncategorized\n",
       "lease_commence_date                 1989\n",
       "latitude                         1.36901\n",
       "longitude                        103.959\n",
       "elevation                              0\n",
       "subzone                  pasir ris drive\n",
       "planning_area                  pasir ris\n",
       "region                       east region\n",
       "resale_price                      209700\n",
       "Name: 0, dtype: object"
      ]
     },
     "execution_count": 10,
     "metadata": {},
     "output_type": "execute_result"
    }
   ],
   "source": [
    "# 1st entry in data\n",
    "train.iloc[0]\n",
    "# manually validate coord in google maps"
   ]
  },
  {
   "cell_type": "code",
   "execution_count": 10,
   "metadata": {},
   "outputs": [],
   "source": [
    "test_lat, test_long = train.iloc[0][['latitude','longitude']]"
   ]
  },
  {
   "cell_type": "code",
   "execution_count": 11,
   "metadata": {},
   "outputs": [
    {
     "name": "stdout",
     "output_type": "stream",
     "text": [
      "Distance to origin (x,y): 35.95775442315713,16.5267442089845 km\n"
     ]
    }
   ],
   "source": [
    "test_x, test_y = calc_xydist(test_long, test_lat, ref_min_long,ref_min_lat)\n",
    "print(f\"Distance to origin (x,y): {test_x},{test_y} km\")"
   ]
  },
  {
   "cell_type": "code",
   "execution_count": 12,
   "metadata": {},
   "outputs": [
    {
     "name": "stdout",
     "output_type": "stream",
     "text": [
      "Euclid distance to origin: 39.57487375074682 km\n"
     ]
    }
   ],
   "source": [
    "dist = haversine(test_long, test_lat, ref_min_long,ref_min_lat)\n",
    "print(f\"Euclid distance to origin: {dist} km\")"
   ]
  },
  {
   "cell_type": "markdown",
   "metadata": {},
   "source": [
    "Above distance checked against visual inspection on Google Maps"
   ]
  },
  {
   "cell_type": "markdown",
   "metadata": {},
   "source": [
    "# Quadtree data structure and radius search"
   ]
  },
  {
   "cell_type": "code",
   "execution_count": 13,
   "metadata": {},
   "outputs": [
    {
     "name": "stdout",
     "output_type": "stream",
     "text": [
      "45 32\n"
     ]
    }
   ],
   "source": [
    "width, height = calc_xydist(ref_max_long, ref_max_lat, ref_min_long,ref_min_lat)\n",
    "width = math.ceil(width)\n",
    "height = math.ceil(height)\n",
    "print(width, height) # Bounding box size in km"
   ]
  },
  {
   "cell_type": "code",
   "execution_count": 14,
   "metadata": {},
   "outputs": [],
   "source": [
    "mrt_data_path = 'data/auxiliary-data/sg-train-stations.csv'"
   ]
  },
  {
   "cell_type": "code",
   "execution_count": 15,
   "metadata": {},
   "outputs": [],
   "source": [
    "mrt = pd.read_csv(mrt_data_path)"
   ]
  },
  {
   "cell_type": "code",
   "execution_count": 16,
   "metadata": {},
   "outputs": [
    {
     "data": {
      "text/html": [
       "<div>\n",
       "<style scoped>\n",
       "    .dataframe tbody tr th:only-of-type {\n",
       "        vertical-align: middle;\n",
       "    }\n",
       "\n",
       "    .dataframe tbody tr th {\n",
       "        vertical-align: top;\n",
       "    }\n",
       "\n",
       "    .dataframe thead th {\n",
       "        text-align: right;\n",
       "    }\n",
       "</style>\n",
       "<table border=\"1\" class=\"dataframe\">\n",
       "  <thead>\n",
       "    <tr style=\"text-align: right;\">\n",
       "      <th></th>\n",
       "      <th>name</th>\n",
       "      <th>codes</th>\n",
       "      <th>lat</th>\n",
       "      <th>lng</th>\n",
       "      <th>opening_year</th>\n",
       "      <th>type</th>\n",
       "    </tr>\n",
       "  </thead>\n",
       "  <tbody>\n",
       "    <tr>\n",
       "      <th>0</th>\n",
       "      <td>Eunos</td>\n",
       "      <td>EW7</td>\n",
       "      <td>1.319778</td>\n",
       "      <td>103.903252</td>\n",
       "      <td>1989.0</td>\n",
       "      <td>mrt</td>\n",
       "    </tr>\n",
       "    <tr>\n",
       "      <th>1</th>\n",
       "      <td>Chinese Garden</td>\n",
       "      <td>EW25</td>\n",
       "      <td>1.342352</td>\n",
       "      <td>103.732596</td>\n",
       "      <td>1988.0</td>\n",
       "      <td>mrt</td>\n",
       "    </tr>\n",
       "    <tr>\n",
       "      <th>2</th>\n",
       "      <td>Khatib</td>\n",
       "      <td>NS14</td>\n",
       "      <td>1.417383</td>\n",
       "      <td>103.832980</td>\n",
       "      <td>1988.0</td>\n",
       "      <td>mrt</td>\n",
       "    </tr>\n",
       "    <tr>\n",
       "      <th>3</th>\n",
       "      <td>Kranji</td>\n",
       "      <td>NS7</td>\n",
       "      <td>1.425177</td>\n",
       "      <td>103.762165</td>\n",
       "      <td>1996.0</td>\n",
       "      <td>mrt</td>\n",
       "    </tr>\n",
       "    <tr>\n",
       "      <th>4</th>\n",
       "      <td>Redhill</td>\n",
       "      <td>EW18</td>\n",
       "      <td>1.289562</td>\n",
       "      <td>103.816816</td>\n",
       "      <td>1988.0</td>\n",
       "      <td>mrt</td>\n",
       "    </tr>\n",
       "  </tbody>\n",
       "</table>\n",
       "</div>"
      ],
      "text/plain": [
       "             name codes       lat         lng  opening_year type\n",
       "0           Eunos   EW7  1.319778  103.903252        1989.0  mrt\n",
       "1  Chinese Garden  EW25  1.342352  103.732596        1988.0  mrt\n",
       "2          Khatib  NS14  1.417383  103.832980        1988.0  mrt\n",
       "3          Kranji   NS7  1.425177  103.762165        1996.0  mrt\n",
       "4         Redhill  EW18  1.289562  103.816816        1988.0  mrt"
      ]
     },
     "execution_count": 16,
     "metadata": {},
     "output_type": "execute_result"
    }
   ],
   "source": [
    "mrt.head()"
   ]
  },
  {
   "cell_type": "code",
   "execution_count": 17,
   "metadata": {},
   "outputs": [
    {
     "data": {
      "text/html": [
       "<div>\n",
       "<style scoped>\n",
       "    .dataframe tbody tr th:only-of-type {\n",
       "        vertical-align: middle;\n",
       "    }\n",
       "\n",
       "    .dataframe tbody tr th {\n",
       "        vertical-align: top;\n",
       "    }\n",
       "\n",
       "    .dataframe thead th {\n",
       "        text-align: right;\n",
       "    }\n",
       "</style>\n",
       "<table border=\"1\" class=\"dataframe\">\n",
       "  <thead>\n",
       "    <tr style=\"text-align: right;\">\n",
       "      <th></th>\n",
       "      <th>name</th>\n",
       "      <th>codes</th>\n",
       "      <th>lat</th>\n",
       "      <th>lng</th>\n",
       "      <th>opening_year</th>\n",
       "      <th>type</th>\n",
       "      <th>x</th>\n",
       "      <th>y</th>\n",
       "      <th>long_name</th>\n",
       "    </tr>\n",
       "  </thead>\n",
       "  <tbody>\n",
       "    <tr>\n",
       "      <th>0</th>\n",
       "      <td>Eunos</td>\n",
       "      <td>EW7</td>\n",
       "      <td>1.319778</td>\n",
       "      <td>103.903252</td>\n",
       "      <td>1989.0</td>\n",
       "      <td>mrt</td>\n",
       "      <td>NaN</td>\n",
       "      <td>NaN</td>\n",
       "      <td>Eunos_mrt</td>\n",
       "    </tr>\n",
       "    <tr>\n",
       "      <th>1</th>\n",
       "      <td>Chinese Garden</td>\n",
       "      <td>EW25</td>\n",
       "      <td>1.342352</td>\n",
       "      <td>103.732596</td>\n",
       "      <td>1988.0</td>\n",
       "      <td>mrt</td>\n",
       "      <td>NaN</td>\n",
       "      <td>NaN</td>\n",
       "      <td>Chinese Garden_mrt</td>\n",
       "    </tr>\n",
       "    <tr>\n",
       "      <th>2</th>\n",
       "      <td>Khatib</td>\n",
       "      <td>NS14</td>\n",
       "      <td>1.417383</td>\n",
       "      <td>103.832980</td>\n",
       "      <td>1988.0</td>\n",
       "      <td>mrt</td>\n",
       "      <td>NaN</td>\n",
       "      <td>NaN</td>\n",
       "      <td>Khatib_mrt</td>\n",
       "    </tr>\n",
       "    <tr>\n",
       "      <th>3</th>\n",
       "      <td>Kranji</td>\n",
       "      <td>NS7</td>\n",
       "      <td>1.425177</td>\n",
       "      <td>103.762165</td>\n",
       "      <td>1996.0</td>\n",
       "      <td>mrt</td>\n",
       "      <td>NaN</td>\n",
       "      <td>NaN</td>\n",
       "      <td>Kranji_mrt</td>\n",
       "    </tr>\n",
       "    <tr>\n",
       "      <th>4</th>\n",
       "      <td>Redhill</td>\n",
       "      <td>EW18</td>\n",
       "      <td>1.289562</td>\n",
       "      <td>103.816816</td>\n",
       "      <td>1988.0</td>\n",
       "      <td>mrt</td>\n",
       "      <td>NaN</td>\n",
       "      <td>NaN</td>\n",
       "      <td>Redhill_mrt</td>\n",
       "    </tr>\n",
       "  </tbody>\n",
       "</table>\n",
       "</div>"
      ],
      "text/plain": [
       "             name codes       lat         lng  opening_year type   x   y  \\\n",
       "0           Eunos   EW7  1.319778  103.903252        1989.0  mrt NaN NaN   \n",
       "1  Chinese Garden  EW25  1.342352  103.732596        1988.0  mrt NaN NaN   \n",
       "2          Khatib  NS14  1.417383  103.832980        1988.0  mrt NaN NaN   \n",
       "3          Kranji   NS7  1.425177  103.762165        1996.0  mrt NaN NaN   \n",
       "4         Redhill  EW18  1.289562  103.816816        1988.0  mrt NaN NaN   \n",
       "\n",
       "            long_name  \n",
       "0           Eunos_mrt  \n",
       "1  Chinese Garden_mrt  \n",
       "2          Khatib_mrt  \n",
       "3          Kranji_mrt  \n",
       "4         Redhill_mrt  "
      ]
     },
     "execution_count": 17,
     "metadata": {},
     "output_type": "execute_result"
    }
   ],
   "source": [
    "mrt['x'] = np.nan\n",
    "mrt['y'] = np.nan\n",
    "mrt['long_name'] = mrt['name'] + '_' + mrt['type']\n",
    "\n",
    "mrt.head()"
   ]
  },
  {
   "cell_type": "code",
   "execution_count": 18,
   "metadata": {},
   "outputs": [],
   "source": [
    "def create_qtree(df, name_col = 'name'):\n",
    "    qtree = QuadTree(domain, 3)\n",
    "    points = []\n",
    "    for index, row in df.iterrows():\n",
    "        x, y = calc_xydist(row.lng, row.lat, ref_min_long,ref_min_lat)\n",
    "\n",
    "        df['x'][index] = round(x, 2)\n",
    "        df['y'][index] = round(y, 2)\n",
    "\n",
    "        point = Point(x, y, name=row[name_col])\n",
    "\n",
    "        points.append(point)\n",
    "        qtree.insert(point)\n",
    "        \n",
    "    return qtree, points"
   ]
  },
  {
   "cell_type": "code",
   "execution_count": 19,
   "metadata": {},
   "outputs": [
    {
     "name": "stderr",
     "output_type": "stream",
     "text": [
      "C:\\Users\\dpramr\\AppData\\Roaming\\Python\\Python37\\site-packages\\ipykernel_launcher.py:7: SettingWithCopyWarning: \n",
      "A value is trying to be set on a copy of a slice from a DataFrame\n",
      "\n",
      "See the caveats in the documentation: https://pandas.pydata.org/pandas-docs/stable/user_guide/indexing.html#returning-a-view-versus-a-copy\n",
      "  import sys\n",
      "C:\\Users\\dpramr\\AppData\\Roaming\\Python\\Python37\\site-packages\\ipykernel_launcher.py:8: SettingWithCopyWarning: \n",
      "A value is trying to be set on a copy of a slice from a DataFrame\n",
      "\n",
      "See the caveats in the documentation: https://pandas.pydata.org/pandas-docs/stable/user_guide/indexing.html#returning-a-view-versus-a-copy\n",
      "  \n"
     ]
    },
    {
     "data": {
      "text/html": [
       "<div>\n",
       "<style scoped>\n",
       "    .dataframe tbody tr th:only-of-type {\n",
       "        vertical-align: middle;\n",
       "    }\n",
       "\n",
       "    .dataframe tbody tr th {\n",
       "        vertical-align: top;\n",
       "    }\n",
       "\n",
       "    .dataframe thead th {\n",
       "        text-align: right;\n",
       "    }\n",
       "</style>\n",
       "<table border=\"1\" class=\"dataframe\">\n",
       "  <thead>\n",
       "    <tr style=\"text-align: right;\">\n",
       "      <th></th>\n",
       "      <th>name</th>\n",
       "      <th>codes</th>\n",
       "      <th>lat</th>\n",
       "      <th>lng</th>\n",
       "      <th>opening_year</th>\n",
       "      <th>type</th>\n",
       "      <th>x</th>\n",
       "      <th>y</th>\n",
       "      <th>long_name</th>\n",
       "    </tr>\n",
       "  </thead>\n",
       "  <tbody>\n",
       "    <tr>\n",
       "      <th>0</th>\n",
       "      <td>Eunos</td>\n",
       "      <td>EW7</td>\n",
       "      <td>1.319778</td>\n",
       "      <td>103.903252</td>\n",
       "      <td>1989.0</td>\n",
       "      <td>mrt</td>\n",
       "      <td>29.79</td>\n",
       "      <td>11.05</td>\n",
       "      <td>Eunos_mrt</td>\n",
       "    </tr>\n",
       "    <tr>\n",
       "      <th>1</th>\n",
       "      <td>Chinese Garden</td>\n",
       "      <td>EW25</td>\n",
       "      <td>1.342352</td>\n",
       "      <td>103.732596</td>\n",
       "      <td>1988.0</td>\n",
       "      <td>mrt</td>\n",
       "      <td>10.82</td>\n",
       "      <td>13.56</td>\n",
       "      <td>Chinese Garden_mrt</td>\n",
       "    </tr>\n",
       "    <tr>\n",
       "      <th>2</th>\n",
       "      <td>Khatib</td>\n",
       "      <td>NS14</td>\n",
       "      <td>1.417383</td>\n",
       "      <td>103.832980</td>\n",
       "      <td>1988.0</td>\n",
       "      <td>mrt</td>\n",
       "      <td>21.98</td>\n",
       "      <td>21.91</td>\n",
       "      <td>Khatib_mrt</td>\n",
       "    </tr>\n",
       "    <tr>\n",
       "      <th>3</th>\n",
       "      <td>Kranji</td>\n",
       "      <td>NS7</td>\n",
       "      <td>1.425177</td>\n",
       "      <td>103.762165</td>\n",
       "      <td>1996.0</td>\n",
       "      <td>mrt</td>\n",
       "      <td>14.11</td>\n",
       "      <td>22.77</td>\n",
       "      <td>Kranji_mrt</td>\n",
       "    </tr>\n",
       "    <tr>\n",
       "      <th>4</th>\n",
       "      <td>Redhill</td>\n",
       "      <td>EW18</td>\n",
       "      <td>1.289562</td>\n",
       "      <td>103.816816</td>\n",
       "      <td>1988.0</td>\n",
       "      <td>mrt</td>\n",
       "      <td>20.19</td>\n",
       "      <td>7.69</td>\n",
       "      <td>Redhill_mrt</td>\n",
       "    </tr>\n",
       "  </tbody>\n",
       "</table>\n",
       "</div>"
      ],
      "text/plain": [
       "             name codes       lat         lng  opening_year type      x  \\\n",
       "0           Eunos   EW7  1.319778  103.903252        1989.0  mrt  29.79   \n",
       "1  Chinese Garden  EW25  1.342352  103.732596        1988.0  mrt  10.82   \n",
       "2          Khatib  NS14  1.417383  103.832980        1988.0  mrt  21.98   \n",
       "3          Kranji   NS7  1.425177  103.762165        1996.0  mrt  14.11   \n",
       "4         Redhill  EW18  1.289562  103.816816        1988.0  mrt  20.19   \n",
       "\n",
       "       y           long_name  \n",
       "0  11.05           Eunos_mrt  \n",
       "1  13.56  Chinese Garden_mrt  \n",
       "2  21.91          Khatib_mrt  \n",
       "3  22.77          Kranji_mrt  \n",
       "4   7.69         Redhill_mrt  "
      ]
     },
     "execution_count": 19,
     "metadata": {},
     "output_type": "execute_result"
    }
   ],
   "source": [
    "# TODO: Better way?\n",
    "domain = Rect(width/2, height/2, width, height)\n",
    "\n",
    "mrt_qtree, mrt_points = create_qtree(mrt, name_col='long_name')\n",
    "mrt.head()"
   ]
  },
  {
   "cell_type": "code",
   "execution_count": null,
   "metadata": {},
   "outputs": [],
   "source": []
  },
  {
   "cell_type": "code",
   "execution_count": 20,
   "metadata": {},
   "outputs": [
    {
     "data": {
      "image/png": "[encoded data removed]",
      "text/plain": [
       "<Figure size 700x500 with 1 Axes>"
      ]
     },
     "metadata": {},
     "output_type": "display_data"
    }
   ],
   "source": [
    "DPI = 72\n",
    "fig = plt.figure(figsize=(700/DPI, 500/DPI), dpi=DPI)\n",
    "ax = plt.subplot()\n",
    "ax.set_xlim(0, width)\n",
    "ax.set_ylim(0, height)\n",
    "mrt_qtree.draw(ax)\n",
    "ax.scatter([p.x for p in mrt_points], [p.y for p in mrt_points], s=4)\n",
    "ax.set_xticks([])\n",
    "ax.set_yticks([])\n",
    "plt.show()"
   ]
  },
  {
   "cell_type": "code",
   "execution_count": 21,
   "metadata": {},
   "outputs": [
    {
     "name": "stdout",
     "output_type": "stream",
     "text": [
      "Number of found points = 25\n",
      "Oasis_other\n",
      "Sam Kee_other\n",
      "Farmway_other\n",
      "Kadaloor_other\n",
      "Coral Edge_other\n",
      "Riviera_mrt\n",
      "Cove_other\n",
      "Kangkar_other\n",
      "Meridian_other\n",
      "Ranggung_other\n",
      "Bakau_other\n",
      "Rumbia_other\n",
      "Cheng Lim_other\n",
      "Compassvale_other\n",
      "Sengkang_mrt\n",
      "Sengkang_mrt\n",
      "Punggol_mrt\n",
      "Samudera_other\n",
      "Nibong_other\n",
      "Soo Teck_other\n",
      "Damai_other\n",
      "Punggol Point_other\n",
      "Sumang_other\n",
      "Punggol_mrt\n",
      "Teck Lee_other\n"
     ]
    },
    {
     "data": {
      "image/png": "[encoded data removed]",
      "text/plain": [
       "<Figure size 700x500 with 1 Axes>"
      ]
     },
     "metadata": {},
     "output_type": "display_data"
    }
   ],
   "source": [
    "# Query point\n",
    "(test_x,test_y) = (30.21,19.86)\n",
    "centre = (test_x,test_y)\n",
    "radius = 2 # in km \n",
    "found_points = []\n",
    "mrt_qtree.query_radius((test_x,test_y), radius, found_points)\n",
    "\n",
    "\n",
    "print('Number of found points =', len(found_points))\n",
    "for p in found_points:\n",
    "    print(p.name)\n",
    "\n",
    "# Plot results\n",
    "DPI = 72\n",
    "fig = plt.figure(figsize=(700/DPI, 500/DPI), dpi=DPI)\n",
    "ax = plt.subplot()\n",
    "\n",
    "ax.set_xlim(0, width)\n",
    "ax.set_ylim(0, height)\n",
    "\n",
    "# Plot all points\n",
    "ax.scatter([p.x for p in mrt_points], [p.y for p in mrt_points], s=4)\n",
    "ax.set_xticks([])\n",
    "ax.set_yticks([])\n",
    "\n",
    "# Plot found points\n",
    "ax.scatter([p.x for p in found_points], [p.y for p in found_points],\n",
    "           facecolors='none', edgecolors='r', s=32)\n",
    "\n",
    "# Draw search radius\n",
    "circle = plt.Circle(centre, radius, ec='r', fill=False)\n",
    "ax.add_patch(circle)\n",
    "# Rect(*centre, 2*radius, 2*radius).draw(ax, c='r')\n",
    "\n",
    "plt.show()"
   ]
  },
  {
   "cell_type": "code",
   "execution_count": 22,
   "metadata": {},
   "outputs": [
    {
     "data": {
      "text/html": [
       "<div>\n",
       "<style scoped>\n",
       "    .dataframe tbody tr th:only-of-type {\n",
       "        vertical-align: middle;\n",
       "    }\n",
       "\n",
       "    .dataframe tbody tr th {\n",
       "        vertical-align: top;\n",
       "    }\n",
       "\n",
       "    .dataframe thead th {\n",
       "        text-align: right;\n",
       "    }\n",
       "</style>\n",
       "<table border=\"1\" class=\"dataframe\">\n",
       "  <thead>\n",
       "    <tr style=\"text-align: right;\">\n",
       "      <th></th>\n",
       "      <th>month</th>\n",
       "      <th>town</th>\n",
       "      <th>flat_type</th>\n",
       "      <th>block</th>\n",
       "      <th>street_name</th>\n",
       "      <th>storey_range</th>\n",
       "      <th>floor_area_sqm</th>\n",
       "      <th>flat_model</th>\n",
       "      <th>eco_category</th>\n",
       "      <th>lease_commence_date</th>\n",
       "      <th>latitude</th>\n",
       "      <th>longitude</th>\n",
       "      <th>elevation</th>\n",
       "      <th>subzone</th>\n",
       "      <th>planning_area</th>\n",
       "      <th>region</th>\n",
       "      <th>resale_price</th>\n",
       "    </tr>\n",
       "  </thead>\n",
       "  <tbody>\n",
       "    <tr>\n",
       "      <th>0</th>\n",
       "      <td>2001-08</td>\n",
       "      <td>pasir ris</td>\n",
       "      <td>4 room</td>\n",
       "      <td>440</td>\n",
       "      <td>pasir ris drive 4</td>\n",
       "      <td>01 to 03</td>\n",
       "      <td>118.0</td>\n",
       "      <td>model a</td>\n",
       "      <td>uncategorized</td>\n",
       "      <td>1989</td>\n",
       "      <td>1.369008</td>\n",
       "      <td>103.958697</td>\n",
       "      <td>0.0</td>\n",
       "      <td>pasir ris drive</td>\n",
       "      <td>pasir ris</td>\n",
       "      <td>east region</td>\n",
       "      <td>209700.0</td>\n",
       "    </tr>\n",
       "    <tr>\n",
       "      <th>1</th>\n",
       "      <td>2014-10</td>\n",
       "      <td>punggol</td>\n",
       "      <td>5-room</td>\n",
       "      <td>196B</td>\n",
       "      <td>punggol field</td>\n",
       "      <td>10 to 12</td>\n",
       "      <td>110.0</td>\n",
       "      <td>improved</td>\n",
       "      <td>uncategorized</td>\n",
       "      <td>2003</td>\n",
       "      <td>1.399007</td>\n",
       "      <td>103.906991</td>\n",
       "      <td>0.0</td>\n",
       "      <td>punggol field</td>\n",
       "      <td>punggol</td>\n",
       "      <td>north-east region</td>\n",
       "      <td>402300.0</td>\n",
       "    </tr>\n",
       "    <tr>\n",
       "      <th>2</th>\n",
       "      <td>2020-09</td>\n",
       "      <td>sengkang</td>\n",
       "      <td>5 room</td>\n",
       "      <td>404A</td>\n",
       "      <td>fernvale lane</td>\n",
       "      <td>01 to 03</td>\n",
       "      <td>112.0</td>\n",
       "      <td>premium apartment</td>\n",
       "      <td>uncategorized</td>\n",
       "      <td>2004</td>\n",
       "      <td>1.388348</td>\n",
       "      <td>103.873815</td>\n",
       "      <td>0.0</td>\n",
       "      <td>fernvale</td>\n",
       "      <td>sengkang</td>\n",
       "      <td>north-east region</td>\n",
       "      <td>351000.0</td>\n",
       "    </tr>\n",
       "    <tr>\n",
       "      <th>3</th>\n",
       "      <td>2000-10</td>\n",
       "      <td>clementi</td>\n",
       "      <td>3 room</td>\n",
       "      <td>375</td>\n",
       "      <td>clementi avenue 4</td>\n",
       "      <td>07 to 09</td>\n",
       "      <td>67.0</td>\n",
       "      <td>new generation</td>\n",
       "      <td>uncategorized</td>\n",
       "      <td>1980</td>\n",
       "      <td>1.318493</td>\n",
       "      <td>103.766702</td>\n",
       "      <td>0.0</td>\n",
       "      <td>clementi north</td>\n",
       "      <td>clementi</td>\n",
       "      <td>west region</td>\n",
       "      <td>151200.0</td>\n",
       "    </tr>\n",
       "    <tr>\n",
       "      <th>4</th>\n",
       "      <td>2013-01</td>\n",
       "      <td>bukit batok</td>\n",
       "      <td>3-room</td>\n",
       "      <td>163</td>\n",
       "      <td>bukit batok street 11</td>\n",
       "      <td>07 to 09</td>\n",
       "      <td>73.0</td>\n",
       "      <td>model a</td>\n",
       "      <td>uncategorized</td>\n",
       "      <td>1985</td>\n",
       "      <td>1.348149</td>\n",
       "      <td>103.742658</td>\n",
       "      <td>0.0</td>\n",
       "      <td>bukit batok west</td>\n",
       "      <td>bukit batok</td>\n",
       "      <td>west region</td>\n",
       "      <td>318600.0</td>\n",
       "    </tr>\n",
       "  </tbody>\n",
       "</table>\n",
       "</div>"
      ],
      "text/plain": [
       "     month         town flat_type block            street_name storey_range  \\\n",
       "0  2001-08    pasir ris    4 room   440      pasir ris drive 4     01 to 03   \n",
       "1  2014-10      punggol    5-room  196B          punggol field     10 to 12   \n",
       "2  2020-09     sengkang    5 room  404A          fernvale lane     01 to 03   \n",
       "3  2000-10     clementi    3 room   375      clementi avenue 4     07 to 09   \n",
       "4  2013-01  bukit batok    3-room   163  bukit batok street 11     07 to 09   \n",
       "\n",
       "   floor_area_sqm         flat_model   eco_category  lease_commence_date  \\\n",
       "0           118.0            model a  uncategorized                 1989   \n",
       "1           110.0           improved  uncategorized                 2003   \n",
       "2           112.0  premium apartment  uncategorized                 2004   \n",
       "3            67.0     new generation  uncategorized                 1980   \n",
       "4            73.0            model a  uncategorized                 1985   \n",
       "\n",
       "   latitude   longitude  elevation           subzone planning_area  \\\n",
       "0  1.369008  103.958697        0.0   pasir ris drive     pasir ris   \n",
       "1  1.399007  103.906991        0.0     punggol field       punggol   \n",
       "2  1.388348  103.873815        0.0          fernvale      sengkang   \n",
       "3  1.318493  103.766702        0.0    clementi north      clementi   \n",
       "4  1.348149  103.742658        0.0  bukit batok west   bukit batok   \n",
       "\n",
       "              region  resale_price  \n",
       "0        east region      209700.0  \n",
       "1  north-east region      402300.0  \n",
       "2  north-east region      351000.0  \n",
       "3        west region      151200.0  \n",
       "4        west region      318600.0  "
      ]
     },
     "execution_count": 22,
     "metadata": {},
     "output_type": "execute_result"
    }
   ],
   "source": [
    "train.head()"
   ]
  },
  {
   "cell_type": "code",
   "execution_count": 23,
   "metadata": {},
   "outputs": [
    {
     "name": "stdout",
     "output_type": "stream",
     "text": [
      "191\n",
      "191\n"
     ]
    },
    {
     "name": "stderr",
     "output_type": "stream",
     "text": [
      "C:\\Users\\dpramr\\AppData\\Roaming\\Python\\Python37\\site-packages\\ipykernel_launcher.py:7: SettingWithCopyWarning: \n",
      "A value is trying to be set on a copy of a slice from a DataFrame\n",
      "\n",
      "See the caveats in the documentation: https://pandas.pydata.org/pandas-docs/stable/user_guide/indexing.html#returning-a-view-versus-a-copy\n",
      "  import sys\n",
      "C:\\Users\\dpramr\\AppData\\Roaming\\Python\\Python37\\site-packages\\ipykernel_launcher.py:8: SettingWithCopyWarning: \n",
      "A value is trying to be set on a copy of a slice from a DataFrame\n",
      "\n",
      "See the caveats in the documentation: https://pandas.pydata.org/pandas-docs/stable/user_guide/indexing.html#returning-a-view-versus-a-copy\n",
      "  \n"
     ]
    }
   ],
   "source": [
    "prisch_data_path = 'data/auxiliary-data/sg-primary-schools.csv'\n",
    "prisch = pd.read_csv(prisch_data_path)\n",
    "\n",
    "prisch['x'] = np.nan\n",
    "prisch['y'] = np.nan\n",
    "\n",
    "prisch_qtree, prisch_points = create_qtree(prisch)\n",
    "\n",
    "prisch.head()\n",
    "print(len(prisch_qtree))\n",
    "print(len(prisch_points))"
   ]
  },
  {
   "cell_type": "code",
   "execution_count": 24,
   "metadata": {},
   "outputs": [
    {
     "data": {
      "image/png": "[encoded data removed]",
      "text/plain": [
       "<Figure size 1400x1000 with 1 Axes>"
      ]
     },
     "metadata": {},
     "output_type": "display_data"
    }
   ],
   "source": [
    "DPI = 72\n",
    "fig = plt.figure(figsize=(1400/DPI, 1000/DPI), dpi=DPI)\n",
    "ax = plt.subplot()\n",
    "ax.set_xlim(0, width)\n",
    "ax.set_ylim(0, height)\n",
    "prisch_qtree.draw(ax)\n",
    "ax.scatter([p.x for p in prisch_points], [p.y for p in prisch_points], s=4)\n",
    "ax.set_xticks([])\n",
    "ax.set_yticks([])\n",
    "plt.show()"
   ]
  },
  {
   "cell_type": "code",
   "execution_count": 25,
   "metadata": {},
   "outputs": [
    {
     "name": "stdout",
     "output_type": "stream",
     "text": [
      "                        name type       lat         lng      x      y  \\\n",
      "0  Central Business District   CR  1.286768  103.854529  24.38   7.38   \n",
      "1       Jurong Lake District   CR  1.334085  103.734513  11.04  12.64   \n",
      "2    Seletar Regional Centre   CR  1.409435  103.866820  25.74  21.02   \n",
      "3   Tampines Regional Centre   CR  1.353180  103.945188  34.46  14.77   \n",
      "4  Woodlands Regional Centre   CR  1.436748  103.786485  16.81  24.06   \n",
      "\n",
      "                      long_name  \n",
      "0  Central Business District_CR  \n",
      "1       Jurong Lake District_CR  \n",
      "2    Seletar Regional Centre_CR  \n",
      "3   Tampines Regional Centre_CR  \n",
      "4  Woodlands Regional Centre_CR  \n",
      "38\n",
      "38\n"
     ]
    },
    {
     "name": "stderr",
     "output_type": "stream",
     "text": [
      "C:\\Users\\dpramr\\AppData\\Roaming\\Python\\Python37\\site-packages\\ipykernel_launcher.py:7: SettingWithCopyWarning: \n",
      "A value is trying to be set on a copy of a slice from a DataFrame\n",
      "\n",
      "See the caveats in the documentation: https://pandas.pydata.org/pandas-docs/stable/user_guide/indexing.html#returning-a-view-versus-a-copy\n",
      "  import sys\n",
      "C:\\Users\\dpramr\\AppData\\Roaming\\Python\\Python37\\site-packages\\ipykernel_launcher.py:8: SettingWithCopyWarning: \n",
      "A value is trying to be set on a copy of a slice from a DataFrame\n",
      "\n",
      "See the caveats in the documentation: https://pandas.pydata.org/pandas-docs/stable/user_guide/indexing.html#returning-a-view-versus-a-copy\n",
      "  \n"
     ]
    }
   ],
   "source": [
    "comm_data_path = 'data/auxiliary-data/sg-commerical-centres.csv'\n",
    "comm = pd.read_csv(comm_data_path)\n",
    "\n",
    "comm['x'] = np.nan\n",
    "comm['y'] = np.nan\n",
    "comm['long_name'] = comm['name'] + '_' + comm['type']\n",
    "comm_qtree, comm_points = create_qtree(comm, name_col='long_name')\n",
    "\n",
    "print(comm.head())\n",
    "print(len(comm_qtree))\n",
    "print(len(comm_points))"
   ]
  },
  {
   "cell_type": "code",
   "execution_count": 26,
   "metadata": {},
   "outputs": [
    {
     "name": "stdout",
     "output_type": "stream",
     "text": [
      "     month         town flat_type block                street_name  \\\n",
      "0  2001-08    pasir ris    4 room   440          pasir ris drive 4   \n",
      "1  2014-10      punggol    5-room  196B              punggol field   \n",
      "2  2020-09     sengkang    5 room  404A              fernvale lane   \n",
      "3  2000-10     clementi    3 room   375          clementi avenue 4   \n",
      "4  2013-01  bukit batok    3-room   163      bukit batok street 11   \n",
      "5  2001-01  bukit batok    3 room   240  Bukit Batok East Avenue 5   \n",
      "6  2007-09  jurong west    4 room   647      jurong west street 61   \n",
      "\n",
      "  storey_range  floor_area_sqm         flat_model   eco_category  \\\n",
      "0     01 to 03           118.0            model a  uncategorized   \n",
      "1     10 to 12           110.0           improved  uncategorized   \n",
      "2     01 to 03           112.0  premium apartment  uncategorized   \n",
      "3     07 to 09            67.0     new generation  uncategorized   \n",
      "4     07 to 09            73.0            model a  uncategorized   \n",
      "5     10 to 12            67.0     new generation  uncategorized   \n",
      "6     13 to 15           100.0            model a  uncategorized   \n",
      "\n",
      "   lease_commence_date  ...  elevation              subzone  planning_area  \\\n",
      "0                 1989  ...        0.0      pasir ris drive      pasir ris   \n",
      "1                 2003  ...        0.0        punggol field        punggol   \n",
      "2                 2004  ...        0.0             fernvale       sengkang   \n",
      "3                 1980  ...        0.0       clementi north       clementi   \n",
      "4                 1985  ...        0.0     bukit batok west    bukit batok   \n",
      "5                 1985  ...        0.0     bukit batok east    bukit batok   \n",
      "6                 1998  ...        0.0  jurong west central    jurong west   \n",
      "\n",
      "              region resale_price      x      y  prisch_1km  comm_2km  mrt_2km  \n",
      "0        east region     209700.0  35.96  16.53           5         0        2  \n",
      "1  north-east region     402300.0  30.21  19.86           8         1       25  \n",
      "2  north-east region     351000.0  26.52  18.68           2         1        7  \n",
      "3        west region     151200.0  14.62  10.91           2         0        2  \n",
      "4        west region     318600.0  11.94  14.21           2         1        4  \n",
      "5        west region     120600.0    NaN    NaN           0         0        0  \n",
      "6        west region     248850.0    NaN    NaN           0         0        0  \n",
      "\n",
      "[7 rows x 22 columns]\n"
     ]
    },
    {
     "name": "stderr",
     "output_type": "stream",
     "text": [
      "C:\\Users\\dpramr\\AppData\\Roaming\\Python\\Python37\\site-packages\\ipykernel_launcher.py:15: SettingWithCopyWarning: \n",
      "A value is trying to be set on a copy of a slice from a DataFrame\n",
      "\n",
      "See the caveats in the documentation: https://pandas.pydata.org/pandas-docs/stable/user_guide/indexing.html#returning-a-view-versus-a-copy\n",
      "  from ipykernel import kernelapp as app\n",
      "C:\\Users\\dpramr\\AppData\\Roaming\\Python\\Python37\\site-packages\\ipykernel_launcher.py:16: SettingWithCopyWarning: \n",
      "A value is trying to be set on a copy of a slice from a DataFrame\n",
      "\n",
      "See the caveats in the documentation: https://pandas.pydata.org/pandas-docs/stable/user_guide/indexing.html#returning-a-view-versus-a-copy\n",
      "  app.launch_new_instance()\n",
      "C:\\Users\\dpramr\\AppData\\Roaming\\Python\\Python37\\site-packages\\ipykernel_launcher.py:22: SettingWithCopyWarning: \n",
      "A value is trying to be set on a copy of a slice from a DataFrame\n",
      "\n",
      "See the caveats in the documentation: https://pandas.pydata.org/pandas-docs/stable/user_guide/indexing.html#returning-a-view-versus-a-copy\n",
      "C:\\Users\\dpramr\\AppData\\Roaming\\Python\\Python37\\site-packages\\ipykernel_launcher.py:28: SettingWithCopyWarning: \n",
      "A value is trying to be set on a copy of a slice from a DataFrame\n",
      "\n",
      "See the caveats in the documentation: https://pandas.pydata.org/pandas-docs/stable/user_guide/indexing.html#returning-a-view-versus-a-copy\n",
      "C:\\Users\\dpramr\\AppData\\Roaming\\Python\\Python37\\site-packages\\ipykernel_launcher.py:34: SettingWithCopyWarning: \n",
      "A value is trying to be set on a copy of a slice from a DataFrame\n",
      "\n",
      "See the caveats in the documentation: https://pandas.pydata.org/pandas-docs/stable/user_guide/indexing.html#returning-a-view-versus-a-copy\n"
     ]
    }
   ],
   "source": [
    "# mrt_qtree\n",
    "# prisch_qtree\n",
    "# comm_qtree\n",
    "train['x'] = np.nan\n",
    "train['y'] = np.nan\n",
    "train['prisch_1km'] = 0\n",
    "train['comm_2km'] = 0\n",
    "train['mrt_2km'] = 0\n",
    "\n",
    "for index, row in train[:5].iterrows():\n",
    "    x, y = calc_xydist(row.longitude, row.latitude, ref_min_long,ref_min_lat)\n",
    "    x = round(x, 2)\n",
    "    y = round(y, 2)\n",
    "    \n",
    "    train['x'][index] = x\n",
    "    train['y'][index] = y\n",
    "\n",
    "    # MRT Search\n",
    "    mrt_radius = 2\n",
    "    found_points = []\n",
    "    mrt_qtree.query_radius((x, y), mrt_radius, found_points)\n",
    "    train['mrt_2km'][index] = len(found_points)\n",
    "    \n",
    "    # Commercial centres\n",
    "    comm_radius = 2\n",
    "    found_points = []\n",
    "    comm_qtree.query_radius((x, y), comm_radius, found_points)\n",
    "    train['comm_2km'][index] = len(found_points)\n",
    "    \n",
    "    # Primary Schools\n",
    "    prisch_radius = 1\n",
    "    found_points = []\n",
    "    prisch_qtree.query_radius((x, y), prisch_radius, found_points)\n",
    "    train['prisch_1km'][index] = len(found_points)\n",
    "    \n",
    "print(train.head(7))"
   ]
  }
 ],
 "metadata": {
  "kernelspec": {
   "display_name": "cs5242",
   "language": "python",
   "name": "cs5242"
  },
  "language_info": {
   "codemirror_mode": {
    "name": "ipython",
    "version": 3
   },
   "file_extension": ".py",
   "mimetype": "text/x-python",
   "name": "python",
   "nbconvert_exporter": "python",
   "pygments_lexer": "ipython3",
   "version": "3.7.9"
  }
 },
 "nbformat": 4,
 "nbformat_minor": 4
}
